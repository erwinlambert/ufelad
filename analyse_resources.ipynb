{
 "cells": [
  {
   "cell_type": "code",
   "execution_count": 1,
   "metadata": {},
   "outputs": [],
   "source": [
    "import xarray as xr\n",
    "import numpy as np"
   ]
  },
  {
   "cell_type": "code",
   "execution_count": null,
   "metadata": {},
   "outputs": [],
   "source": [
    "ds = xr.open_dataset('output/MISOMIP_8km_spinup/resource_tracking.nc')\n",
    "ds"
   ]
  },
  {
   "cell_type": "code",
   "execution_count": 3,
   "metadata": {},
   "outputs": [],
   "source": [
    "lim = 0\n",
    "\n",
    "def print_line(n):\n",
    "    c = 0 #counter of /\n",
    "\n",
    "    frac = 100*ds.tcomp[0,n].values/np.max(ds.tcomp[0,:].values)\n",
    "    if frac<.1:\n",
    "        return\n",
    "    vals = ds.routine_names_encoded[:,n].values\n",
    "    name = []\n",
    "    for i in range(len(ds.name_length)):\n",
    "        if vals[i] == -1 and c>lim:\n",
    "            break\n",
    "        elif vals[i]<10 and c>lim:\n",
    "            name.append(str(vals[i]))\n",
    "        elif vals[i]<37 and c>lim:\n",
    "            name.append(chr(ord('`')+vals[i]-10))\n",
    "        elif vals[i]<63 and c>lim:\n",
    "            name.append(chr(ord('@')+vals[i]-36))\n",
    "        elif vals[i]==63 and c>lim:\n",
    "            name.append('_')\n",
    "        elif vals[i]==64:\n",
    "            if c>lim:\n",
    "                name.append('/')\n",
    "            c += 1\n",
    "        elif vals[i]==65 and c>lim:\n",
    "            name.append('(')\n",
    "        elif vals[i]==66 and c>lim:\n",
    "            name.append(')')\n",
    "    strname = ''.join(name)\n",
    "    if strname == 'subroutine_placeholder' or c>2:\n",
    "        return\n",
    "    print(f'{frac: 7.2f} {strname}')"
   ]
  },
  {
   "cell_type": "code",
   "execution_count": null,
   "metadata": {},
   "outputs": [],
   "source": [
    "for n in range(len(ds.n_routines)):\n",
    "    print_line(n)"
   ]
  },
  {
   "cell_type": "code",
   "execution_count": null,
   "metadata": {},
   "outputs": [],
   "source": []
  }
 ],
 "metadata": {
  "kernelspec": {
   "display_name": "laddie",
   "language": "python",
   "name": "python3"
  },
  "language_info": {
   "codemirror_mode": {
    "name": "ipython",
    "version": 3
   },
   "file_extension": ".py",
   "mimetype": "text/x-python",
   "name": "python",
   "nbconvert_exporter": "python",
   "pygments_lexer": "ipython3",
   "version": "3.8.13"
  }
 },
 "nbformat": 4,
 "nbformat_minor": 2
}
